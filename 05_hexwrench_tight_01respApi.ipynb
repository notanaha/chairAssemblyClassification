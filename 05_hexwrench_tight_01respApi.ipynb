{
 "cells": [
  {
   "cell_type": "code",
   "execution_count": null,
   "metadata": {},
   "outputs": [],
   "source": [
    "import os, json\n",
    "import base64\n",
    "import openai\n",
    "import glob\n",
    "from typing import List, Literal\n",
    "from pydantic import BaseModel, Field, RootModel\n",
    "\n",
    "from dotenv import load_dotenv\n",
    "load_dotenv(override=True)\n",
    "\n",
    "aoai_endpoint = os.environ[\"AZURE_OPENAI_ENDPOINT_o3\"]\n",
    "aoai_api_key = os.environ[\"AZURE_OPENAI_API_KEY_o3\"]\n",
    "api_version = os.environ[\"AZURE_OPENAI_API_VERSION\"]"
   ]
  },
  {
   "cell_type": "code",
   "execution_count": null,
   "metadata": {},
   "outputs": [],
   "source": [
    "#step_name=\"4_hexwrench_light\"\n",
    "step_name=\"5_hexwrench_tight\"\n",
    "\n",
    "client = openai.AzureOpenAI( \n",
    "    azure_endpoint=aoai_endpoint,\n",
    "    api_key=aoai_api_key,\n",
    "    api_version= api_version\n",
    ")\n",
    "\n",
    "with open(f\"./{step_name}.txt\", \"r\", encoding = 'utf-8') as f:\n",
    "    user_prompt_template = f.read()\n",
    "messages = []\n",
    "content = []"
   ]
  },
  {
   "cell_type": "code",
   "execution_count": null,
   "metadata": {},
   "outputs": [],
   "source": [
    "class StepResponse(BaseModel):\n",
    "    classification: Literal[\"yes\", \"no\"] = Field(..., description=\"Classification of whether the images correspond to the step\")\n",
    "    confidence: int = Field(..., ge=1, le=5, description=\"Classification Score (1 as not belonging to the step, 5 as belonging to the step)\")\n",
    "    reasoning: str = Field(..., description=\"Explanation of the decision\")\n",
    "\n",
    "class StepResponseList(BaseModel):\n",
    "    responses: List[StepResponse] = Field(..., description=\"List of responses for each test image\")\n",
    "    overall_result: Literal[\"yes\", \"no\"] = Field(..., description=\"Overall classification of whether the images correspond to the step\")\n",
    "    reasoning: str = Field(..., description=\"Overall reasoning for the classification\")"
   ]
  },
  {
   "cell_type": "code",
   "execution_count": null,
   "metadata": {},
   "outputs": [],
   "source": [
    "def encode_image(image_path):\n",
    "    with open(image_path, \"rb\") as image_file:\n",
    "        return base64.b64encode(image_file.read()).decode(\"utf-8\")"
   ]
  },
  {
   "cell_type": "code",
   "execution_count": null,
   "metadata": {},
   "outputs": [],
   "source": [
    "content.append({\"type\": \"input_text\", \n",
    "                \"text\": f\"You are analyzing the productivity of a chair assembly process. The following images are examples of the assembling process of a chair.\"})\n",
    "sample_folder = f\"./output/{step_name}/\"\n",
    "\n",
    "image_files = sorted(glob.glob(os.path.join(sample_folder, \"*.jpg\")))\n",
    "for idx, image_path in enumerate(image_files, start=1):\n",
    "    image_name = os.path.basename(image_path)\n",
    "    base64_encoded = encode_image(image_path)\n",
    "    content.append({\"type\": \"input_text\", \"text\": f\"### sample{idx}\"})\n",
    "    content.append({\"type\": \"input_image\", \"image_url\": f\"data:image/jpeg;base64,{base64_encoded}\", \"detail\": \"high\"})\n",
    "\n",
    "content.append({\"type\": \"input_text\", \"text\": user_prompt_template})"
   ]
  },
  {
   "cell_type": "code",
   "execution_count": null,
   "metadata": {},
   "outputs": [],
   "source": [
    "test_folder = \"./output/\"\n",
    "test_images = [\n",
    "    \"frame_0056_t56.0s.jpg\", \"frame_0057_t57.0s.jpg\", \"frame_0058_t58.0s.jpg\"\n",
    "    ]\n",
    "\n",
    "for i, img_name in enumerate(test_images, start=1):\n",
    "    base64_img = encode_image(os.path.join(test_folder, img_name))\n",
    "    print(f\"Processing test image {i}: {img_name}\")\n",
    "    content.append({\"type\": \"input_text\", \"text\": f\"### test{i}\"})\n",
    "    content.append({\"type\": \"input_image\", \"image_url\": f\"data:image/jpeg;base64,{base64_img}\", \"detail\": \"high\"})\n",
    "\n",
    "content.append({\"type\": \"input_text\", \"text\":f\"Classify each of the three images whether it belongs to step {step_name}, followed by overall_result. Return a JSON object with indent matching the given schema.\"})\n",
    "\n",
    "messages.append({\"role\": \"user\",\"content\":content})"
   ]
  },
  {
   "cell_type": "code",
   "execution_count": null,
   "metadata": {},
   "outputs": [],
   "source": [
    "response = client.responses.parse(\n",
    "    input=messages,\n",
    "    model=\"gpt-5-mini\", # replace with model deployment name\n",
    "    reasoning={\n",
    "        \"effort\": \"medium\", # low, medium, or high (currently only supported with o4-mini and o3)\n",
    "        \"summary\": \"auto\" # auto, concise, or detailed (currently only supported with o4-mini and o3)\n",
    "    },\n",
    "    text_format=StepResponseList\n",
    ")\n",
    "\n",
    "print(response.output_text)"
   ]
  },
  {
   "cell_type": "code",
   "execution_count": null,
   "metadata": {},
   "outputs": [],
   "source": [
    "response2 = client.responses.parse(\n",
    "    input=messages,\n",
    "    model=\"gpt-4.1\", temperature=0, # replace with model deployment name\n",
    "    text_format=StepResponseList\n",
    ")\n",
    "\n",
    "print(response2.output_text)"
   ]
  },
  {
   "cell_type": "code",
   "execution_count": null,
   "metadata": {},
   "outputs": [],
   "source": [
    "data = json.loads(response.output_text)\n",
    "result = \"yes\" if any(label[\"classification\"] == \"yes\" for label in data[\"responses\"]) else \"no\"\n",
    "\n",
    "print(result) "
   ]
  }
 ],
 "metadata": {
  "kernelspec": {
   "display_name": "py12",
   "language": "python",
   "name": "python3"
  },
  "language_info": {
   "codemirror_mode": {
    "name": "ipython",
    "version": 3
   },
   "file_extension": ".py",
   "mimetype": "text/x-python",
   "name": "python",
   "nbconvert_exporter": "python",
   "pygments_lexer": "ipython3",
   "version": "3.12.9"
  }
 },
 "nbformat": 4,
 "nbformat_minor": 2
}
