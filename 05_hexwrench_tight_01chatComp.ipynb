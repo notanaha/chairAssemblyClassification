{
 "cells": [
  {
   "cell_type": "code",
   "execution_count": null,
   "metadata": {},
   "outputs": [],
   "source": [
    "import os, json\n",
    "import openai\n",
    "import glob\n",
    "import base64\n",
    "\n",
    "from dotenv import load_dotenv\n",
    "load_dotenv(\".env\")\n",
    "\n",
    "aoai_endpoint = os.environ[\"AZURE_OPENAI_ENDPOINT\"]\n",
    "aoai_api_key = os.environ[\"AZURE_OPENAI_API_KEY\"]\n",
    "api_version = os.environ[\"AZURE_OPENAI_API_VERSION\"]\n",
    "chat_model = os.environ[\"AZURE_OPENAI_CHAT_MODEL\"]\n",
    "\n",
    "client = openai.AzureOpenAI( \n",
    "    azure_endpoint=aoai_endpoint,\n",
    "    api_key=aoai_api_key,\n",
    "    api_version= api_version\n",
    ")\n",
    "\n",
    "step_name=\"5_hexwrench_tight\"\n",
    "\n",
    "with open(f\"./utils/{step_name}.txt\", \"r\", encoding = 'utf-8') as f:\n",
    "    user_prompt_template = f.read()\n",
    "messages = []\n",
    "content = []"
   ]
  },
  {
   "cell_type": "code",
   "execution_count": null,
   "metadata": {},
   "outputs": [],
   "source": [
    "def encode_image(image_path):\n",
    "    with open(image_path, \"rb\") as image_file:\n",
    "        return base64.b64encode(image_file.read()).decode(\"utf-8\")"
   ]
  },
  {
   "cell_type": "code",
   "execution_count": null,
   "metadata": {},
   "outputs": [],
   "source": [
    "content.append({\"type\": \"text\", \n",
    "                \"text\": f\"You are analyzing the productivity of a chair assembly process. The following images are examples of the assembling process of a chair.\"})\n",
    "sample_folder = f\"./output/{step_name}/\"\n",
    "\n",
    "image_files = sorted(glob.glob(os.path.join(sample_folder, \"*.jpg\")))\n",
    "for idx, image_path in enumerate(image_files, start=1):\n",
    "    image_name = os.path.basename(image_path)\n",
    "    base64_encoded = encode_image(image_path)\n",
    "    content.append({\"type\": \"text\", \"text\": f\"### sample{idx}\"})\n",
    "    content.append({\"type\": \"image_url\", \"image_url\":\n",
    "                    {\"url\": \"data:image/jpeg;base64,\" + base64_encoded}, \"detail\": \"high\"})\n",
    "\n",
    "content.append({\"type\": \"text\", \"text\": user_prompt_template})"
   ]
  },
  {
   "cell_type": "code",
   "execution_count": null,
   "metadata": {},
   "outputs": [],
   "source": [
    "test_folder = \"./output/\"\n",
    "test_images = [\n",
    "    \"frame_0056_t56.0s.jpg\", \"frame_0057_t57.0s.jpg\", \"frame_0058_t58.0s.jpg\"\n",
    "    ]\n",
    "\n",
    "for i, img_name in enumerate(test_images, start=1):\n",
    "    base64_img = encode_image(os.path.join(test_folder, img_name))\n",
    "    print(f\"Processing test image {i}: {img_name}\")\n",
    "    content.append({\"type\": \"text\", \"text\": f\"### test{i}\"})\n",
    "    content.append({\"type\": \"image_url\", \"image_url\": \n",
    "                    {\"url\": \"data:image/jpeg;base64,\" + base64_img}, \"detail\": \"high\"})\n",
    "\n",
    "content.append({\"type\": \"text\", \"text\":f\"Classify each of the three images whether it belongs to step {step_name}, followed by overall_result. Return a JSON object with indent matching the given schema.\"})\n",
    "\n",
    "messages.append({\"role\": \"user\",\"content\":content})"
   ]
  },
  {
   "cell_type": "code",
   "execution_count": null,
   "metadata": {},
   "outputs": [],
   "source": [
    "response = client.chat.completions.create(\n",
    "    model=chat_model, \n",
    "    messages=messages,\n",
    "#    temperature=0.0\n",
    "    reasoning_effort=\"high\",\n",
    "#    max_completion_tokens=4000 \n",
    ")\n",
    "response_message = response.choices[0].message\n",
    "messages.append(response_message)\n",
    "answer = response_message.content\n",
    "print(answer)"
   ]
  },
  {
   "cell_type": "code",
   "execution_count": null,
   "metadata": {},
   "outputs": [],
   "source": [
    "messages.append({\"role\": \"user\",\"content\": \"Show me your reasoning process.\"})\n",
    "\n",
    "response = client.chat.completions.create(\n",
    "    model=chat_model, \n",
    "    messages=messages,\n",
    ")\n",
    "response_message = response.choices[0].message\n",
    "messages.append(response_message)\n",
    "print(response_message.content)"
   ]
  }
 ],
 "metadata": {
  "kernelspec": {
   "display_name": "py12",
   "language": "python",
   "name": "python3"
  },
  "language_info": {
   "codemirror_mode": {
    "name": "ipython",
    "version": 3
   },
   "file_extension": ".py",
   "mimetype": "text/x-python",
   "name": "python",
   "nbconvert_exporter": "python",
   "pygments_lexer": "ipython3",
   "version": "3.12.9"
  }
 },
 "nbformat": 4,
 "nbformat_minor": 2
}
